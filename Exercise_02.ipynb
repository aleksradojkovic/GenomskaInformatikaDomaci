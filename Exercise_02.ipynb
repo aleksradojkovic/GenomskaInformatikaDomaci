{
 "cells": [
  {
   "cell_type": "code",
   "execution_count": 1,
   "metadata": {},
   "outputs": [
    {
     "name": "stdout",
     "output_type": "stream",
     "text": [
      "Collecting pysam\n",
      "  Downloading pysam-0.16.0.1-cp38-cp38-manylinux1_x86_64.whl (10.2 MB)\n",
      "\u001b[K     |████████████████████████████████| 10.2 MB 19.6 MB/s eta 0:00:01\n",
      "\u001b[?25hInstalling collected packages: pysam\n",
      "Successfully installed pysam-0.16.0.1\n",
      "Note: you may need to restart the kernel to use updated packages.\n"
     ]
    }
   ],
   "source": [
    "pip install pysam"
   ]
  },
  {
   "cell_type": "code",
   "execution_count": 62,
   "metadata": {},
   "outputs": [
    {
     "name": "stdout",
     "output_type": "stream",
     "text": [
      "First read fields: \n",
      " C0HVYACXX120402:7:1207:5722:57044\t1187\t20\t9483248\t27\t76M\t20\t9483381\t76\tTTTTCAAACAGTATCTATGCCTGCCAAATGTGAACATATAAAAAAAAACCAGAATGTGCCATTCTGATTTAAACTG\tarray('B', [28, 28, 27, 29, 31, 30, 31, 31, 29, 31, 35, 30, 29, 31, 34, 30, 29, 23, 41, 32, 20, 30, 29, 34, 34, 29, 30, 31, 30, 30, 30, 33, 33, 26, 39, 12, 25, 19, 32, 30, 35, 28, 35, 33, 23, 33, 35, 36, 30, 38, 33, 41, 34, 35, 31, 33, 23, 30, 30, 36, 27, 32, 29, 34, 35, 41, 33, 31, 33, 29, 32, 32, 31, 31, 31, 34])\t[('XA', 'GL000217.1,-110754,76M,1;'), ('BD', 'NNNNNNNNNNNNNNNNNNNNNNNNNNNNNNNNNNNNNNNNNNNNNNNNNNNNNNNNNNNNNNNNNNNNNNNNNNNN'), ('MD', '76'), ('RG', '1'), ('BI', 'NNNNNNNNNNNNNNNNNNNNNNNNNNNNNNNNNNNNNNNNNNNNNNNNNNNNNNNNNNNNNNNNNNNNNNNNNNNN'), ('NM', 0), ('MQ', 27), ('AS', 76), ('XS', 71)]\n"
     ]
    }
   ],
   "source": [
    "import pysam\n",
    "AlignmentFile = pysam.AlignmentFile(\"merged-tumor.bam\", \"rb\")\n",
    "for AlignmentSegment in AlignmentFile.head(1):\n",
    "    print(\"First read fields: \\n\", AlignmentSegment)\n",
    "    "
   ]
  },
  {
   "cell_type": "code",
   "execution_count": 56,
   "metadata": {},
   "outputs": [
    {
     "name": "stdout",
     "output_type": "stream",
     "text": [
      "C0HVYACXX120402:7:1207:5722:57044\t1187\t20\t9483248\t27\t76M\t20\t9483381\t76\tTTTTCAAACAGTATCTATGCCTGCCAAATGTGAACATATAAAAAAAAACCAGAATGTGCCATTCTGATTTAAACTG\tarray('B', [28, 28, 27, 29, 31, 30, 31, 31, 29, 31, 35, 30, 29, 31, 34, 30, 29, 23, 41, 32, 20, 30, 29, 34, 34, 29, 30, 31, 30, 30, 30, 33, 33, 26, 39, 12, 25, 19, 32, 30, 35, 28, 35, 33, 23, 33, 35, 36, 30, 38, 33, 41, 34, 35, 31, 33, 23, 30, 30, 36, 27, 32, 29, 34, 35, 41, 33, 31, 33, 29, 32, 32, 31, 31, 31, 34])\t[('XA', 'GL000217.1,-110754,76M,1;'), ('BD', 'NNNNNNNNNNNNNNNNNNNNNNNNNNNNNNNNNNNNNNNNNNNNNNNNNNNNNNNNNNNNNNNNNNNNNNNNNNNN'), ('MD', '76'), ('RG', '1'), ('BI', 'NNNNNNNNNNNNNNNNNNNNNNNNNNNNNNNNNNNNNNNNNNNNNNNNNNNNNNNNNNNNNNNNNNNNNNNNNNNN'), ('NM', 0), ('MQ', 27), ('AS', 76), ('XS', 71)]\n"
     ]
    }
   ],
   "source": [
    "print(AlignmentSegment)"
   ]
  },
  {
   "cell_type": "code",
   "execution_count": 59,
   "metadata": {},
   "outputs": [
    {
     "name": "stdout",
     "output_type": "stream",
     "text": [
      "Flags for first read:  1187\n"
     ]
    }
   ],
   "source": [
    "print(\"Flags for first read: \", AlignmentSegment.flag)"
   ]
  },
  {
   "cell_type": "code",
   "execution_count": 60,
   "metadata": {},
   "outputs": [
    {
     "name": "stdout",
     "output_type": "stream",
     "text": [
      "Cigar string for first read: 76M\n"
     ]
    }
   ],
   "source": [
    "print(\"Cigar string for first read:\", AlignmentSegment.cigarstring)"
   ]
  },
  {
   "cell_type": "code",
   "execution_count": 27,
   "metadata": {},
   "outputs": [],
   "source": [
    "flagsForSomeReads = [AlignmentFileT.flag for AlignmentFileT in AlignmentFile.head(10)]"
   ]
  },
  {
   "cell_type": "code",
   "execution_count": 57,
   "metadata": {},
   "outputs": [
    {
     "name": "stdout",
     "output_type": "stream",
     "text": [
      "Flags for first 10 reads: [1187, 163, 99, 99, 99, 163, 99, 1123, 99, 1123]\n"
     ]
    }
   ],
   "source": [
    "print(\"Flags for first 10 reads:\", flagsForSomeReads)"
   ]
  },
  {
   "cell_type": "code",
   "execution_count": 52,
   "metadata": {},
   "outputs": [
    {
     "name": "stdout",
     "output_type": "stream",
     "text": [
      "Total number of unmapped reads:  17765\n",
      "Total number of reads:  2921629\n",
      "Number of reads with zero mapping quality:  126628\n",
      "Average mapping with quality greater than zero:  58.447\n",
      "Average mapping quality:  55.9138\n"
     ]
    }
   ],
   "source": [
    "import pysam\n",
    "from statistics import mean\n",
    "\n",
    "AlignmentFile = pysam.AlignmentFile(\"merged-tumor.bam\", \"rb\")\n",
    "\n",
    "numOfUnmappedReads = 0\n",
    "numOfTotalReads = 0\n",
    "numOfZeroMappingQuality = 0\n",
    "listMappingQualityNeqZero = []\n",
    "listMappingQuality = []\n",
    "\n",
    "for AlignmentSegment in AlignmentFile:\n",
    "    numOfTotalReads += 1\n",
    "    if AlignmentSegment.is_unmapped:\n",
    "        numOfUnmappedReads = numOfUnmappedReads + 1\n",
    "    if AlignmentSegment.mapping_quality == 0:\n",
    "        numOfZeroMappingQuality += 1\n",
    "    else:\n",
    "        listMappingQualityNeqZero.append(AlignmentSegment.mapping_quality)\n",
    "    listMappingQuality.append(AlignmentSegment.mapping_quality)\n",
    "        \n",
    "\n",
    "print(\"Total number of unmapped reads: \", numOfUnmappedReads)\n",
    "print(\"Total number of reads: \", numOfTotalReads)\n",
    "print(\"Number of reads with zero mapping quality: \", numOfZeroMappingQuality)\n",
    "print(\"Average mapping with quality greater than zero: \", round(mean(listMappingQualityNeqZero), 4))\n",
    "print(\"Average mapping quality: \", round(mean(listMappingQuality), 4))"
   ]
  },
  {
   "cell_type": "code",
   "execution_count": null,
   "metadata": {},
   "outputs": [],
   "source": []
  }
 ],
 "metadata": {
  "kernelspec": {
   "display_name": "Python 3",
   "language": "python",
   "name": "python3"
  },
  "language_info": {
   "codemirror_mode": {
    "name": "ipython",
    "version": 3
   },
   "file_extension": ".py",
   "mimetype": "text/x-python",
   "name": "python",
   "nbconvert_exporter": "python",
   "pygments_lexer": "ipython3",
   "version": "3.6.3"
  }
 },
 "nbformat": 4,
 "nbformat_minor": 4
}
